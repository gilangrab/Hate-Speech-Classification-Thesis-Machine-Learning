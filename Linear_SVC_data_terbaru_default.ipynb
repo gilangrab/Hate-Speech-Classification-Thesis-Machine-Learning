{
 "cells": [
  {
   "cell_type": "code",
   "execution_count": 1,
   "id": "3b1a9095-bf1f-450e-b491-364a359f8189",
   "metadata": {},
   "outputs": [],
   "source": [
    "import pandas as pd\n",
    "import numpy as np"
   ]
  },
  {
   "cell_type": "code",
   "execution_count": 2,
   "id": "c5c66ee4-1e16-44a5-89cd-424d127d2892",
   "metadata": {},
   "outputs": [],
   "source": [
    "import re\n",
    "import nltk\n",
    "from nltk.tokenize import word_tokenize"
   ]
  },
  {
   "cell_type": "code",
   "execution_count": 3,
   "id": "2903ec10-9a6a-4e15-b3e9-88cbfba52468",
   "metadata": {},
   "outputs": [],
   "source": [
    "df = pd.read_csv('data_after_cleansing_normalized.csv')"
   ]
  },
  {
   "cell_type": "code",
   "execution_count": 4,
   "id": "2490d078-e49a-448c-b9f5-eee361e104d9",
   "metadata": {},
   "outputs": [
    {
     "data": {
      "text/html": [
       "<div>\n",
       "<style scoped>\n",
       "    .dataframe tbody tr th:only-of-type {\n",
       "        vertical-align: middle;\n",
       "    }\n",
       "\n",
       "    .dataframe tbody tr th {\n",
       "        vertical-align: top;\n",
       "    }\n",
       "\n",
       "    .dataframe thead th {\n",
       "        text-align: right;\n",
       "    }\n",
       "</style>\n",
       "<table border=\"1\" class=\"dataframe\">\n",
       "  <thead>\n",
       "    <tr style=\"text-align: right;\">\n",
       "      <th></th>\n",
       "      <th>Tweet</th>\n",
       "      <th>HS</th>\n",
       "      <th>normalized_tweet</th>\n",
       "      <th>clean_tweet</th>\n",
       "    </tr>\n",
       "  </thead>\n",
       "  <tbody>\n",
       "    <tr>\n",
       "      <th>0</th>\n",
       "      <td>- disaat semua cowok berusaha melacak perhatia...</td>\n",
       "      <td>1</td>\n",
       "      <td>- di saat semua pria berusaha melacak perhatia...</td>\n",
       "      <td>di saat semua pria berusaha melacak perhatian...</td>\n",
       "    </tr>\n",
       "    <tr>\n",
       "      <th>1</th>\n",
       "      <td>RT USER: USER siapa yang telat ngasih tau elu?...</td>\n",
       "      <td>0</td>\n",
       "      <td>RT USER: USER siapa  telat memberi tau elu?eda...</td>\n",
       "      <td>rt user user siapa telat memberi tau eluedan s...</td>\n",
       "    </tr>\n",
       "    <tr>\n",
       "      <th>2</th>\n",
       "      <td>41. Kadang aku berfikir, kenapa aku tetap perc...</td>\n",
       "      <td>0</td>\n",
       "      <td>41. Kadang aku berfikir, kenapa aku tetap perc...</td>\n",
       "      <td>kadang aku berfikir kenapa aku tetap percaya ...</td>\n",
       "    </tr>\n",
       "    <tr>\n",
       "      <th>3</th>\n",
       "      <td>USER USER AKU ITU AKU\\n\\nKU TAU MATAMU SIPIT T...</td>\n",
       "      <td>0</td>\n",
       "      <td>USER USER AKU ITU AKU\\n\\nKU TAU MATAMU SIPIT T...</td>\n",
       "      <td>user user aku itu akunnku tau matamu sipit tap...</td>\n",
       "    </tr>\n",
       "    <tr>\n",
       "      <th>4</th>\n",
       "      <td>USER USER Kaum cebong kapir udah keliatan dong...</td>\n",
       "      <td>1</td>\n",
       "      <td>USER USER Kaum kecebong kafir sudah kelihatan ...</td>\n",
       "      <td>user user kaum kecebong kafir sudah kelihatan ...</td>\n",
       "    </tr>\n",
       "  </tbody>\n",
       "</table>\n",
       "</div>"
      ],
      "text/plain": [
       "                                               Tweet  HS  \\\n",
       "0  - disaat semua cowok berusaha melacak perhatia...   1   \n",
       "1  RT USER: USER siapa yang telat ngasih tau elu?...   0   \n",
       "2  41. Kadang aku berfikir, kenapa aku tetap perc...   0   \n",
       "3  USER USER AKU ITU AKU\\n\\nKU TAU MATAMU SIPIT T...   0   \n",
       "4  USER USER Kaum cebong kapir udah keliatan dong...   1   \n",
       "\n",
       "                                    normalized_tweet  \\\n",
       "0  - di saat semua pria berusaha melacak perhatia...   \n",
       "1  RT USER: USER siapa  telat memberi tau elu?eda...   \n",
       "2  41. Kadang aku berfikir, kenapa aku tetap perc...   \n",
       "3  USER USER AKU ITU AKU\\n\\nKU TAU MATAMU SIPIT T...   \n",
       "4  USER USER Kaum kecebong kafir sudah kelihatan ...   \n",
       "\n",
       "                                         clean_tweet  \n",
       "0   di saat semua pria berusaha melacak perhatian...  \n",
       "1  rt user user siapa telat memberi tau eluedan s...  \n",
       "2   kadang aku berfikir kenapa aku tetap percaya ...  \n",
       "3  user user aku itu akunnku tau matamu sipit tap...  \n",
       "4  user user kaum kecebong kafir sudah kelihatan ...  "
      ]
     },
     "execution_count": 4,
     "metadata": {},
     "output_type": "execute_result"
    }
   ],
   "source": [
    "df.head()"
   ]
  },
  {
   "cell_type": "code",
   "execution_count": 5,
   "id": "4c6a3657-6760-4d60-970d-5197fb2c7cf0",
   "metadata": {},
   "outputs": [
    {
     "data": {
      "text/plain": [
       "(18396, 4)"
      ]
     },
     "execution_count": 5,
     "metadata": {},
     "output_type": "execute_result"
    }
   ],
   "source": [
    "df.shape"
   ]
  },
  {
   "cell_type": "code",
   "execution_count": 6,
   "id": "a90bd492-4726-4460-878d-93894c396c5b",
   "metadata": {},
   "outputs": [
    {
     "data": {
      "text/plain": [
       "HS\n",
       "0    10947\n",
       "1     7449\n",
       "Name: count, dtype: int64"
      ]
     },
     "execution_count": 6,
     "metadata": {},
     "output_type": "execute_result"
    }
   ],
   "source": [
    "df['HS'].value_counts()"
   ]
  },
  {
   "cell_type": "code",
   "execution_count": 7,
   "id": "79a6272a-42fc-4a86-a4c1-b89a1025c437",
   "metadata": {},
   "outputs": [],
   "source": [
    "from sklearn.model_selection import train_test_split\n",
    "from sklearn.metrics import accuracy_score, recall_score, precision_score, f1_score, roc_auc_score, log_loss\n",
    "from sklearn.metrics import classification_report, confusion_matrix"
   ]
  },
  {
   "cell_type": "code",
   "execution_count": 8,
   "id": "43b4628b-96ce-4709-b2c3-b65559fcbe2a",
   "metadata": {},
   "outputs": [],
   "source": [
    "x_train, x_test, y_train, y_test = train_test_split(df['clean_tweet'], df['HS'], test_size = 0.2, random_state = 42,stratify=df['HS'])"
   ]
  },
  {
   "cell_type": "code",
   "execution_count": 10,
   "id": "10cc0e59-c13e-4e01-9927-3d98e3033309",
   "metadata": {},
   "outputs": [
    {
     "data": {
      "text/plain": [
       "15595    some berpikir doesnt add up from the present r...\n",
       "16984    because he cant actualy provide a satisfactory...\n",
       "4852     user ini aku salut dari rejim skrg konsisten k...\n",
       "9774     user user user celengnya teriak teriak kecebon...\n",
       "12850    derita nun jauh di sana akan sama dirasakan pe...\n",
       "Name: clean_tweet, dtype: object"
      ]
     },
     "execution_count": 10,
     "metadata": {},
     "output_type": "execute_result"
    }
   ],
   "source": [
    "x_train.head()"
   ]
  },
  {
   "cell_type": "code",
   "execution_count": 9,
   "id": "5a530a45-0916-4265-83a0-1b3ce29d3edf",
   "metadata": {},
   "outputs": [
    {
     "data": {
      "text/plain": [
       "3455     di amerika diketahui sekitar orang setiap tahu...\n",
       "12711    user user alhamdulillah akhirnya kamu menyadar...\n",
       "2845     wah transgender bisa jadi calon legislatif di ...\n",
       "15566             wth is this even real bejat banget allah\n",
       "5319     user berdoa saja suatu saat keluarga kamu tida...\n",
       "Name: clean_tweet, dtype: object"
      ]
     },
     "execution_count": 9,
     "metadata": {},
     "output_type": "execute_result"
    }
   ],
   "source": [
    "x_test.head()"
   ]
  },
  {
   "cell_type": "code",
   "execution_count": 10,
   "id": "8059e0d1-291a-42cd-b7ef-c73ebf3b5e36",
   "metadata": {},
   "outputs": [
    {
     "data": {
      "text/plain": [
       "15595    0\n",
       "16984    0\n",
       "4852     0\n",
       "9774     1\n",
       "12850    0\n",
       "Name: HS, dtype: int64"
      ]
     },
     "execution_count": 10,
     "metadata": {},
     "output_type": "execute_result"
    }
   ],
   "source": [
    "y_train.head()"
   ]
  },
  {
   "cell_type": "code",
   "execution_count": 11,
   "id": "b455b1fb-4048-46ac-959a-7d057425921c",
   "metadata": {},
   "outputs": [],
   "source": [
    "from sklearn.feature_extraction.text import TfidfVectorizer"
   ]
  },
  {
   "cell_type": "code",
   "execution_count": 13,
   "id": "e7341bcc-ef45-48fd-ab80-59c1aa93efc2",
   "metadata": {},
   "outputs": [],
   "source": [
    "vectorizer = TfidfVectorizer()\n",
    "train_tfidf= vectorizer.fit_transform(x_train)"
   ]
  },
  {
   "cell_type": "code",
   "execution_count": 14,
   "id": "a72e53ee-cfca-464e-88c9-bf096d967a30",
   "metadata": {},
   "outputs": [
    {
     "data": {
      "text/html": [
       "<div>\n",
       "<style scoped>\n",
       "    .dataframe tbody tr th:only-of-type {\n",
       "        vertical-align: middle;\n",
       "    }\n",
       "\n",
       "    .dataframe tbody tr th {\n",
       "        vertical-align: top;\n",
       "    }\n",
       "\n",
       "    .dataframe thead th {\n",
       "        text-align: right;\n",
       "    }\n",
       "</style>\n",
       "<table border=\"1\" class=\"dataframe\">\n",
       "  <thead>\n",
       "    <tr style=\"text-align: right;\">\n",
       "      <th></th>\n",
       "      <th>__</th>\n",
       "      <th>___</th>\n",
       "      <th>____</th>\n",
       "      <th>_____</th>\n",
       "      <th>______</th>\n",
       "      <th>____________</th>\n",
       "      <th>_also_</th>\n",
       "      <th>_kepada</th>\n",
       "      <th>_sb_</th>\n",
       "      <th>aa</th>\n",
       "      <th>...</th>\n",
       "      <th>zu</th>\n",
       "      <th>zuhair</th>\n",
       "      <th>zul</th>\n",
       "      <th>zulkarnain</th>\n",
       "      <th>zulkifli</th>\n",
       "      <th>zumi</th>\n",
       "      <th>zumiiiii</th>\n",
       "      <th>zxfxfxxxfxfxaxa</th>\n",
       "      <th>zzzzzzzz</th>\n",
       "      <th>zzzzzzzzzzzz</th>\n",
       "    </tr>\n",
       "  </thead>\n",
       "  <tbody>\n",
       "    <tr>\n",
       "      <th>0</th>\n",
       "      <td>0.0</td>\n",
       "      <td>0.0</td>\n",
       "      <td>0.0</td>\n",
       "      <td>0.0</td>\n",
       "      <td>0.0</td>\n",
       "      <td>0.0</td>\n",
       "      <td>0.0</td>\n",
       "      <td>0.0</td>\n",
       "      <td>0.0</td>\n",
       "      <td>0.0</td>\n",
       "      <td>...</td>\n",
       "      <td>0.0</td>\n",
       "      <td>0.0</td>\n",
       "      <td>0.0</td>\n",
       "      <td>0.0</td>\n",
       "      <td>0.0</td>\n",
       "      <td>0.0</td>\n",
       "      <td>0.0</td>\n",
       "      <td>0.0</td>\n",
       "      <td>0.0</td>\n",
       "      <td>0.0</td>\n",
       "    </tr>\n",
       "    <tr>\n",
       "      <th>1</th>\n",
       "      <td>0.0</td>\n",
       "      <td>0.0</td>\n",
       "      <td>0.0</td>\n",
       "      <td>0.0</td>\n",
       "      <td>0.0</td>\n",
       "      <td>0.0</td>\n",
       "      <td>0.0</td>\n",
       "      <td>0.0</td>\n",
       "      <td>0.0</td>\n",
       "      <td>0.0</td>\n",
       "      <td>...</td>\n",
       "      <td>0.0</td>\n",
       "      <td>0.0</td>\n",
       "      <td>0.0</td>\n",
       "      <td>0.0</td>\n",
       "      <td>0.0</td>\n",
       "      <td>0.0</td>\n",
       "      <td>0.0</td>\n",
       "      <td>0.0</td>\n",
       "      <td>0.0</td>\n",
       "      <td>0.0</td>\n",
       "    </tr>\n",
       "    <tr>\n",
       "      <th>2</th>\n",
       "      <td>0.0</td>\n",
       "      <td>0.0</td>\n",
       "      <td>0.0</td>\n",
       "      <td>0.0</td>\n",
       "      <td>0.0</td>\n",
       "      <td>0.0</td>\n",
       "      <td>0.0</td>\n",
       "      <td>0.0</td>\n",
       "      <td>0.0</td>\n",
       "      <td>0.0</td>\n",
       "      <td>...</td>\n",
       "      <td>0.0</td>\n",
       "      <td>0.0</td>\n",
       "      <td>0.0</td>\n",
       "      <td>0.0</td>\n",
       "      <td>0.0</td>\n",
       "      <td>0.0</td>\n",
       "      <td>0.0</td>\n",
       "      <td>0.0</td>\n",
       "      <td>0.0</td>\n",
       "      <td>0.0</td>\n",
       "    </tr>\n",
       "    <tr>\n",
       "      <th>3</th>\n",
       "      <td>0.0</td>\n",
       "      <td>0.0</td>\n",
       "      <td>0.0</td>\n",
       "      <td>0.0</td>\n",
       "      <td>0.0</td>\n",
       "      <td>0.0</td>\n",
       "      <td>0.0</td>\n",
       "      <td>0.0</td>\n",
       "      <td>0.0</td>\n",
       "      <td>0.0</td>\n",
       "      <td>...</td>\n",
       "      <td>0.0</td>\n",
       "      <td>0.0</td>\n",
       "      <td>0.0</td>\n",
       "      <td>0.0</td>\n",
       "      <td>0.0</td>\n",
       "      <td>0.0</td>\n",
       "      <td>0.0</td>\n",
       "      <td>0.0</td>\n",
       "      <td>0.0</td>\n",
       "      <td>0.0</td>\n",
       "    </tr>\n",
       "    <tr>\n",
       "      <th>4</th>\n",
       "      <td>0.0</td>\n",
       "      <td>0.0</td>\n",
       "      <td>0.0</td>\n",
       "      <td>0.0</td>\n",
       "      <td>0.0</td>\n",
       "      <td>0.0</td>\n",
       "      <td>0.0</td>\n",
       "      <td>0.0</td>\n",
       "      <td>0.0</td>\n",
       "      <td>0.0</td>\n",
       "      <td>...</td>\n",
       "      <td>0.0</td>\n",
       "      <td>0.0</td>\n",
       "      <td>0.0</td>\n",
       "      <td>0.0</td>\n",
       "      <td>0.0</td>\n",
       "      <td>0.0</td>\n",
       "      <td>0.0</td>\n",
       "      <td>0.0</td>\n",
       "      <td>0.0</td>\n",
       "      <td>0.0</td>\n",
       "    </tr>\n",
       "  </tbody>\n",
       "</table>\n",
       "<p>5 rows × 33403 columns</p>\n",
       "</div>"
      ],
      "text/plain": [
       "    __  ___  ____  _____  ______  ____________  _also_  _kepada  _sb_   aa  \\\n",
       "0  0.0  0.0   0.0    0.0     0.0           0.0     0.0      0.0   0.0  0.0   \n",
       "1  0.0  0.0   0.0    0.0     0.0           0.0     0.0      0.0   0.0  0.0   \n",
       "2  0.0  0.0   0.0    0.0     0.0           0.0     0.0      0.0   0.0  0.0   \n",
       "3  0.0  0.0   0.0    0.0     0.0           0.0     0.0      0.0   0.0  0.0   \n",
       "4  0.0  0.0   0.0    0.0     0.0           0.0     0.0      0.0   0.0  0.0   \n",
       "\n",
       "   ...   zu  zuhair  zul  zulkarnain  zulkifli  zumi  zumiiiii  \\\n",
       "0  ...  0.0     0.0  0.0         0.0       0.0   0.0       0.0   \n",
       "1  ...  0.0     0.0  0.0         0.0       0.0   0.0       0.0   \n",
       "2  ...  0.0     0.0  0.0         0.0       0.0   0.0       0.0   \n",
       "3  ...  0.0     0.0  0.0         0.0       0.0   0.0       0.0   \n",
       "4  ...  0.0     0.0  0.0         0.0       0.0   0.0       0.0   \n",
       "\n",
       "   zxfxfxxxfxfxaxa  zzzzzzzz  zzzzzzzzzzzz  \n",
       "0              0.0       0.0           0.0  \n",
       "1              0.0       0.0           0.0  \n",
       "2              0.0       0.0           0.0  \n",
       "3              0.0       0.0           0.0  \n",
       "4              0.0       0.0           0.0  \n",
       "\n",
       "[5 rows x 33403 columns]"
      ]
     },
     "execution_count": 14,
     "metadata": {},
     "output_type": "execute_result"
    }
   ],
   "source": [
    "TFIDF_train=pd.DataFrame(train_tfidf.toarray(),columns=vectorizer.get_feature_names_out())\n",
    "TFIDF_train.head()"
   ]
  },
  {
   "cell_type": "code",
   "execution_count": 15,
   "id": "c1c0833c-bf06-4815-849b-64ff67c734af",
   "metadata": {},
   "outputs": [
    {
     "data": {
      "text/plain": [
       "(14716, 33403)"
      ]
     },
     "execution_count": 15,
     "metadata": {},
     "output_type": "execute_result"
    }
   ],
   "source": [
    "train_tfidf.shape"
   ]
  },
  {
   "cell_type": "code",
   "execution_count": 16,
   "id": "8ec395b4-d2ff-448c-aa6d-44fce766777f",
   "metadata": {},
   "outputs": [],
   "source": [
    "col=TFIDF_train.columns"
   ]
  },
  {
   "cell_type": "code",
   "execution_count": 17,
   "id": "2c86b3c2-97d6-4d15-9c7f-a9b04b631bb7",
   "metadata": {},
   "outputs": [
    {
     "name": "stderr",
     "output_type": "stream",
     "text": [
      "[nltk_data] Downloading package stopwords to\n",
      "[nltk_data]     C:\\Users\\gilan\\AppData\\Roaming\\nltk_data...\n",
      "[nltk_data]   Package stopwords is already up-to-date!\n"
     ]
    }
   ],
   "source": [
    "#stopword removal\n",
    "from nltk.corpus import stopwords\n",
    "nltk.download('stopwords')\n",
    "\n",
    "list_stopwords = set(stopwords.words('indonesian'))\n",
    "\n",
    "nonstop_tokens = [word for word in col if not word in list_stopwords]"
   ]
  },
  {
   "cell_type": "code",
   "execution_count": 18,
   "id": "90b57405-e3d1-42fd-bbae-e11e7a9c6011",
   "metadata": {},
   "outputs": [],
   "source": [
    "train_tfidf=TFIDF_train[nonstop_tokens ]"
   ]
  },
  {
   "cell_type": "code",
   "execution_count": 19,
   "id": "969abb8b-98a9-4fd9-aaf4-f6eeb09ba72d",
   "metadata": {},
   "outputs": [
    {
     "data": {
      "text/plain": [
       "(14716, 32793)"
      ]
     },
     "execution_count": 19,
     "metadata": {},
     "output_type": "execute_result"
    }
   ],
   "source": [
    "train_tfidf.shape"
   ]
  },
  {
   "cell_type": "code",
   "execution_count": 20,
   "id": "8bb8c742-2df4-46a3-ac78-aeac19c7ff1f",
   "metadata": {},
   "outputs": [
    {
     "name": "stderr",
     "output_type": "stream",
     "text": [
      "C:\\Users\\gilan\\AppData\\Local\\Programs\\Python\\Python311\\Lib\\site-packages\\sklearn\\svm\\_classes.py:32: FutureWarning: The default value of `dual` will change from `True` to `'auto'` in 1.5. Set the value of `dual` explicitly to suppress the warning.\n",
      "  warnings.warn(\n"
     ]
    },
    {
     "data": {
      "text/html": [
       "<style>#sk-container-id-1 {color: black;}#sk-container-id-1 pre{padding: 0;}#sk-container-id-1 div.sk-toggleable {background-color: white;}#sk-container-id-1 label.sk-toggleable__label {cursor: pointer;display: block;width: 100%;margin-bottom: 0;padding: 0.3em;box-sizing: border-box;text-align: center;}#sk-container-id-1 label.sk-toggleable__label-arrow:before {content: \"▸\";float: left;margin-right: 0.25em;color: #696969;}#sk-container-id-1 label.sk-toggleable__label-arrow:hover:before {color: black;}#sk-container-id-1 div.sk-estimator:hover label.sk-toggleable__label-arrow:before {color: black;}#sk-container-id-1 div.sk-toggleable__content {max-height: 0;max-width: 0;overflow: hidden;text-align: left;background-color: #f0f8ff;}#sk-container-id-1 div.sk-toggleable__content pre {margin: 0.2em;color: black;border-radius: 0.25em;background-color: #f0f8ff;}#sk-container-id-1 input.sk-toggleable__control:checked~div.sk-toggleable__content {max-height: 200px;max-width: 100%;overflow: auto;}#sk-container-id-1 input.sk-toggleable__control:checked~label.sk-toggleable__label-arrow:before {content: \"▾\";}#sk-container-id-1 div.sk-estimator input.sk-toggleable__control:checked~label.sk-toggleable__label {background-color: #d4ebff;}#sk-container-id-1 div.sk-label input.sk-toggleable__control:checked~label.sk-toggleable__label {background-color: #d4ebff;}#sk-container-id-1 input.sk-hidden--visually {border: 0;clip: rect(1px 1px 1px 1px);clip: rect(1px, 1px, 1px, 1px);height: 1px;margin: -1px;overflow: hidden;padding: 0;position: absolute;width: 1px;}#sk-container-id-1 div.sk-estimator {font-family: monospace;background-color: #f0f8ff;border: 1px dotted black;border-radius: 0.25em;box-sizing: border-box;margin-bottom: 0.5em;}#sk-container-id-1 div.sk-estimator:hover {background-color: #d4ebff;}#sk-container-id-1 div.sk-parallel-item::after {content: \"\";width: 100%;border-bottom: 1px solid gray;flex-grow: 1;}#sk-container-id-1 div.sk-label:hover label.sk-toggleable__label {background-color: #d4ebff;}#sk-container-id-1 div.sk-serial::before {content: \"\";position: absolute;border-left: 1px solid gray;box-sizing: border-box;top: 0;bottom: 0;left: 50%;z-index: 0;}#sk-container-id-1 div.sk-serial {display: flex;flex-direction: column;align-items: center;background-color: white;padding-right: 0.2em;padding-left: 0.2em;position: relative;}#sk-container-id-1 div.sk-item {position: relative;z-index: 1;}#sk-container-id-1 div.sk-parallel {display: flex;align-items: stretch;justify-content: center;background-color: white;position: relative;}#sk-container-id-1 div.sk-item::before, #sk-container-id-1 div.sk-parallel-item::before {content: \"\";position: absolute;border-left: 1px solid gray;box-sizing: border-box;top: 0;bottom: 0;left: 50%;z-index: -1;}#sk-container-id-1 div.sk-parallel-item {display: flex;flex-direction: column;z-index: 1;position: relative;background-color: white;}#sk-container-id-1 div.sk-parallel-item:first-child::after {align-self: flex-end;width: 50%;}#sk-container-id-1 div.sk-parallel-item:last-child::after {align-self: flex-start;width: 50%;}#sk-container-id-1 div.sk-parallel-item:only-child::after {width: 0;}#sk-container-id-1 div.sk-dashed-wrapped {border: 1px dashed gray;margin: 0 0.4em 0.5em 0.4em;box-sizing: border-box;padding-bottom: 0.4em;background-color: white;}#sk-container-id-1 div.sk-label label {font-family: monospace;font-weight: bold;display: inline-block;line-height: 1.2em;}#sk-container-id-1 div.sk-label-container {text-align: center;}#sk-container-id-1 div.sk-container {/* jupyter's `normalize.less` sets `[hidden] { display: none; }` but bootstrap.min.css set `[hidden] { display: none !important; }` so we also need the `!important` here to be able to override the default hidden behavior on the sphinx rendered scikit-learn.org. See: https://github.com/scikit-learn/scikit-learn/issues/21755 */display: inline-block !important;position: relative;}#sk-container-id-1 div.sk-text-repr-fallback {display: none;}</style><div id=\"sk-container-id-1\" class=\"sk-top-container\"><div class=\"sk-text-repr-fallback\"><pre>LinearSVC(random_state=42)</pre><b>In a Jupyter environment, please rerun this cell to show the HTML representation or trust the notebook. <br />On GitHub, the HTML representation is unable to render, please try loading this page with nbviewer.org.</b></div><div class=\"sk-container\" hidden><div class=\"sk-item\"><div class=\"sk-estimator sk-toggleable\"><input class=\"sk-toggleable__control sk-hidden--visually\" id=\"sk-estimator-id-1\" type=\"checkbox\" checked><label for=\"sk-estimator-id-1\" class=\"sk-toggleable__label sk-toggleable__label-arrow\">LinearSVC</label><div class=\"sk-toggleable__content\"><pre>LinearSVC(random_state=42)</pre></div></div></div></div></div>"
      ],
      "text/plain": [
       "LinearSVC(random_state=42)"
      ]
     },
     "execution_count": 20,
     "metadata": {},
     "output_type": "execute_result"
    }
   ],
   "source": [
    "from sklearn import svm\n",
    "svm_class = svm.LinearSVC( random_state=42)\n",
    "svm_class.fit(train_tfidf, y_train)"
   ]
  },
  {
   "cell_type": "code",
   "execution_count": 21,
   "id": "1c3e1697-02ab-4956-9f4a-e2436fedd119",
   "metadata": {},
   "outputs": [],
   "source": [
    "test_tfidf = vectorizer.transform(x_test)"
   ]
  },
  {
   "cell_type": "code",
   "execution_count": 22,
   "id": "3c45f892-3592-46cb-8c90-60079aecb405",
   "metadata": {},
   "outputs": [
    {
     "data": {
      "text/html": [
       "<div>\n",
       "<style scoped>\n",
       "    .dataframe tbody tr th:only-of-type {\n",
       "        vertical-align: middle;\n",
       "    }\n",
       "\n",
       "    .dataframe tbody tr th {\n",
       "        vertical-align: top;\n",
       "    }\n",
       "\n",
       "    .dataframe thead th {\n",
       "        text-align: right;\n",
       "    }\n",
       "</style>\n",
       "<table border=\"1\" class=\"dataframe\">\n",
       "  <thead>\n",
       "    <tr style=\"text-align: right;\">\n",
       "      <th></th>\n",
       "      <th>__</th>\n",
       "      <th>___</th>\n",
       "      <th>____</th>\n",
       "      <th>_____</th>\n",
       "      <th>______</th>\n",
       "      <th>____________</th>\n",
       "      <th>_also_</th>\n",
       "      <th>_kepada</th>\n",
       "      <th>_sb_</th>\n",
       "      <th>aa</th>\n",
       "      <th>...</th>\n",
       "      <th>zu</th>\n",
       "      <th>zuhair</th>\n",
       "      <th>zul</th>\n",
       "      <th>zulkarnain</th>\n",
       "      <th>zulkifli</th>\n",
       "      <th>zumi</th>\n",
       "      <th>zumiiiii</th>\n",
       "      <th>zxfxfxxxfxfxaxa</th>\n",
       "      <th>zzzzzzzz</th>\n",
       "      <th>zzzzzzzzzzzz</th>\n",
       "    </tr>\n",
       "  </thead>\n",
       "  <tbody>\n",
       "    <tr>\n",
       "      <th>0</th>\n",
       "      <td>0.0</td>\n",
       "      <td>0.0</td>\n",
       "      <td>0.0</td>\n",
       "      <td>0.0</td>\n",
       "      <td>0.0</td>\n",
       "      <td>0.0</td>\n",
       "      <td>0.0</td>\n",
       "      <td>0.0</td>\n",
       "      <td>0.0</td>\n",
       "      <td>0.0</td>\n",
       "      <td>...</td>\n",
       "      <td>0.0</td>\n",
       "      <td>0.0</td>\n",
       "      <td>0.0</td>\n",
       "      <td>0.0</td>\n",
       "      <td>0.0</td>\n",
       "      <td>0.0</td>\n",
       "      <td>0.0</td>\n",
       "      <td>0.0</td>\n",
       "      <td>0.0</td>\n",
       "      <td>0.0</td>\n",
       "    </tr>\n",
       "    <tr>\n",
       "      <th>1</th>\n",
       "      <td>0.0</td>\n",
       "      <td>0.0</td>\n",
       "      <td>0.0</td>\n",
       "      <td>0.0</td>\n",
       "      <td>0.0</td>\n",
       "      <td>0.0</td>\n",
       "      <td>0.0</td>\n",
       "      <td>0.0</td>\n",
       "      <td>0.0</td>\n",
       "      <td>0.0</td>\n",
       "      <td>...</td>\n",
       "      <td>0.0</td>\n",
       "      <td>0.0</td>\n",
       "      <td>0.0</td>\n",
       "      <td>0.0</td>\n",
       "      <td>0.0</td>\n",
       "      <td>0.0</td>\n",
       "      <td>0.0</td>\n",
       "      <td>0.0</td>\n",
       "      <td>0.0</td>\n",
       "      <td>0.0</td>\n",
       "    </tr>\n",
       "    <tr>\n",
       "      <th>2</th>\n",
       "      <td>0.0</td>\n",
       "      <td>0.0</td>\n",
       "      <td>0.0</td>\n",
       "      <td>0.0</td>\n",
       "      <td>0.0</td>\n",
       "      <td>0.0</td>\n",
       "      <td>0.0</td>\n",
       "      <td>0.0</td>\n",
       "      <td>0.0</td>\n",
       "      <td>0.0</td>\n",
       "      <td>...</td>\n",
       "      <td>0.0</td>\n",
       "      <td>0.0</td>\n",
       "      <td>0.0</td>\n",
       "      <td>0.0</td>\n",
       "      <td>0.0</td>\n",
       "      <td>0.0</td>\n",
       "      <td>0.0</td>\n",
       "      <td>0.0</td>\n",
       "      <td>0.0</td>\n",
       "      <td>0.0</td>\n",
       "    </tr>\n",
       "    <tr>\n",
       "      <th>3</th>\n",
       "      <td>0.0</td>\n",
       "      <td>0.0</td>\n",
       "      <td>0.0</td>\n",
       "      <td>0.0</td>\n",
       "      <td>0.0</td>\n",
       "      <td>0.0</td>\n",
       "      <td>0.0</td>\n",
       "      <td>0.0</td>\n",
       "      <td>0.0</td>\n",
       "      <td>0.0</td>\n",
       "      <td>...</td>\n",
       "      <td>0.0</td>\n",
       "      <td>0.0</td>\n",
       "      <td>0.0</td>\n",
       "      <td>0.0</td>\n",
       "      <td>0.0</td>\n",
       "      <td>0.0</td>\n",
       "      <td>0.0</td>\n",
       "      <td>0.0</td>\n",
       "      <td>0.0</td>\n",
       "      <td>0.0</td>\n",
       "    </tr>\n",
       "    <tr>\n",
       "      <th>4</th>\n",
       "      <td>0.0</td>\n",
       "      <td>0.0</td>\n",
       "      <td>0.0</td>\n",
       "      <td>0.0</td>\n",
       "      <td>0.0</td>\n",
       "      <td>0.0</td>\n",
       "      <td>0.0</td>\n",
       "      <td>0.0</td>\n",
       "      <td>0.0</td>\n",
       "      <td>0.0</td>\n",
       "      <td>...</td>\n",
       "      <td>0.0</td>\n",
       "      <td>0.0</td>\n",
       "      <td>0.0</td>\n",
       "      <td>0.0</td>\n",
       "      <td>0.0</td>\n",
       "      <td>0.0</td>\n",
       "      <td>0.0</td>\n",
       "      <td>0.0</td>\n",
       "      <td>0.0</td>\n",
       "      <td>0.0</td>\n",
       "    </tr>\n",
       "  </tbody>\n",
       "</table>\n",
       "<p>5 rows × 33403 columns</p>\n",
       "</div>"
      ],
      "text/plain": [
       "    __  ___  ____  _____  ______  ____________  _also_  _kepada  _sb_   aa  \\\n",
       "0  0.0  0.0   0.0    0.0     0.0           0.0     0.0      0.0   0.0  0.0   \n",
       "1  0.0  0.0   0.0    0.0     0.0           0.0     0.0      0.0   0.0  0.0   \n",
       "2  0.0  0.0   0.0    0.0     0.0           0.0     0.0      0.0   0.0  0.0   \n",
       "3  0.0  0.0   0.0    0.0     0.0           0.0     0.0      0.0   0.0  0.0   \n",
       "4  0.0  0.0   0.0    0.0     0.0           0.0     0.0      0.0   0.0  0.0   \n",
       "\n",
       "   ...   zu  zuhair  zul  zulkarnain  zulkifli  zumi  zumiiiii  \\\n",
       "0  ...  0.0     0.0  0.0         0.0       0.0   0.0       0.0   \n",
       "1  ...  0.0     0.0  0.0         0.0       0.0   0.0       0.0   \n",
       "2  ...  0.0     0.0  0.0         0.0       0.0   0.0       0.0   \n",
       "3  ...  0.0     0.0  0.0         0.0       0.0   0.0       0.0   \n",
       "4  ...  0.0     0.0  0.0         0.0       0.0   0.0       0.0   \n",
       "\n",
       "   zxfxfxxxfxfxaxa  zzzzzzzz  zzzzzzzzzzzz  \n",
       "0              0.0       0.0           0.0  \n",
       "1              0.0       0.0           0.0  \n",
       "2              0.0       0.0           0.0  \n",
       "3              0.0       0.0           0.0  \n",
       "4              0.0       0.0           0.0  \n",
       "\n",
       "[5 rows x 33403 columns]"
      ]
     },
     "execution_count": 22,
     "metadata": {},
     "output_type": "execute_result"
    }
   ],
   "source": [
    "TFIDF_test=pd.DataFrame(test_tfidf.toarray(),columns=vectorizer.get_feature_names_out())\n",
    "TFIDF_test.head()"
   ]
  },
  {
   "cell_type": "code",
   "execution_count": 23,
   "id": "4da0db15-4a66-4de7-905e-9a7d9a2bb843",
   "metadata": {},
   "outputs": [],
   "source": [
    "test_tfidf=TFIDF_test[nonstop_tokens]"
   ]
  },
  {
   "cell_type": "code",
   "execution_count": 24,
   "id": "69bd221c-bd6b-493c-b854-cf4a0809a027",
   "metadata": {},
   "outputs": [],
   "source": [
    "test_svm_class=svm_class.predict(test_tfidf)"
   ]
  },
  {
   "cell_type": "code",
   "execution_count": 25,
   "id": "976a12e3-3353-4d12-88b0-68342f20d358",
   "metadata": {},
   "outputs": [
    {
     "name": "stdout",
     "output_type": "stream",
     "text": [
      "\n",
      "Classification Report\n",
      "\n",
      "              precision    recall  f1-score   support\n",
      "\n",
      "           0       0.81      0.85      0.83      2190\n",
      "           1       0.76      0.72      0.74      1490\n",
      "\n",
      "    accuracy                           0.79      3680\n",
      "   macro avg       0.79      0.78      0.78      3680\n",
      "weighted avg       0.79      0.79      0.79      3680\n",
      "\n"
     ]
    }
   ],
   "source": [
    "print('\\nClassification Report\\n')\n",
    "print(classification_report(y_test, test_svm_class, target_names=['0','1']))"
   ]
  }
 ],
 "metadata": {
  "kernelspec": {
   "display_name": "Python 3 (ipykernel)",
   "language": "python",
   "name": "python3"
  },
  "language_info": {
   "codemirror_mode": {
    "name": "ipython",
    "version": 3
   },
   "file_extension": ".py",
   "mimetype": "text/x-python",
   "name": "python",
   "nbconvert_exporter": "python",
   "pygments_lexer": "ipython3",
   "version": "3.11.2"
  }
 },
 "nbformat": 4,
 "nbformat_minor": 5
}
