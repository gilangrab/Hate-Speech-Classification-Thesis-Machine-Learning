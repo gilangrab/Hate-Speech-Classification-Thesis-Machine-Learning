{
 "cells": [
  {
   "cell_type": "code",
   "execution_count": 1,
   "id": "0f955fce-c6dc-4f02-93a8-9d32bb3b0a88",
   "metadata": {},
   "outputs": [],
   "source": [
    "import pandas as pd\n",
    "import numpy as np"
   ]
  },
  {
   "cell_type": "code",
   "execution_count": 2,
   "id": "6379b91b-25a2-4272-98f7-c0bda065ff12",
   "metadata": {},
   "outputs": [],
   "source": [
    "import re\n",
    "import nltk\n",
    "from nltk.tokenize import word_tokenize"
   ]
  },
  {
   "cell_type": "code",
   "execution_count": 3,
   "id": "f176b9f3-2482-49e2-80f8-da30ff32a0be",
   "metadata": {},
   "outputs": [],
   "source": [
    "df=pd.read_csv('data_after_cleansing_normalized.csv')"
   ]
  },
  {
   "cell_type": "code",
   "execution_count": 4,
   "id": "0869d960-166b-4f0d-94db-a313b266ba56",
   "metadata": {},
   "outputs": [
    {
     "data": {
      "text/html": [
       "<div>\n",
       "<style scoped>\n",
       "    .dataframe tbody tr th:only-of-type {\n",
       "        vertical-align: middle;\n",
       "    }\n",
       "\n",
       "    .dataframe tbody tr th {\n",
       "        vertical-align: top;\n",
       "    }\n",
       "\n",
       "    .dataframe thead th {\n",
       "        text-align: right;\n",
       "    }\n",
       "</style>\n",
       "<table border=\"1\" class=\"dataframe\">\n",
       "  <thead>\n",
       "    <tr style=\"text-align: right;\">\n",
       "      <th></th>\n",
       "      <th>Tweet</th>\n",
       "      <th>HS</th>\n",
       "      <th>normalized_tweet</th>\n",
       "      <th>clean_tweet</th>\n",
       "    </tr>\n",
       "  </thead>\n",
       "  <tbody>\n",
       "    <tr>\n",
       "      <th>0</th>\n",
       "      <td>- disaat semua cowok berusaha melacak perhatia...</td>\n",
       "      <td>1</td>\n",
       "      <td>- di saat semua pria berusaha melacak perhatia...</td>\n",
       "      <td>di saat semua pria berusaha melacak perhatian...</td>\n",
       "    </tr>\n",
       "    <tr>\n",
       "      <th>1</th>\n",
       "      <td>RT USER: USER siapa yang telat ngasih tau elu?...</td>\n",
       "      <td>0</td>\n",
       "      <td>RT USER: USER siapa  telat memberi tau elu?eda...</td>\n",
       "      <td>rt user user siapa telat memberi tau eluedan s...</td>\n",
       "    </tr>\n",
       "    <tr>\n",
       "      <th>2</th>\n",
       "      <td>41. Kadang aku berfikir, kenapa aku tetap perc...</td>\n",
       "      <td>0</td>\n",
       "      <td>41. Kadang aku berfikir, kenapa aku tetap perc...</td>\n",
       "      <td>kadang aku berfikir kenapa aku tetap percaya ...</td>\n",
       "    </tr>\n",
       "    <tr>\n",
       "      <th>3</th>\n",
       "      <td>USER USER AKU ITU AKU\\n\\nKU TAU MATAMU SIPIT T...</td>\n",
       "      <td>0</td>\n",
       "      <td>USER USER AKU ITU AKU\\n\\nKU TAU MATAMU SIPIT T...</td>\n",
       "      <td>user user aku itu akunnku tau matamu sipit tap...</td>\n",
       "    </tr>\n",
       "    <tr>\n",
       "      <th>4</th>\n",
       "      <td>USER USER Kaum cebong kapir udah keliatan dong...</td>\n",
       "      <td>1</td>\n",
       "      <td>USER USER Kaum kecebong kafir sudah kelihatan ...</td>\n",
       "      <td>user user kaum kecebong kafir sudah kelihatan ...</td>\n",
       "    </tr>\n",
       "  </tbody>\n",
       "</table>\n",
       "</div>"
      ],
      "text/plain": [
       "                                               Tweet  HS  \\\n",
       "0  - disaat semua cowok berusaha melacak perhatia...   1   \n",
       "1  RT USER: USER siapa yang telat ngasih tau elu?...   0   \n",
       "2  41. Kadang aku berfikir, kenapa aku tetap perc...   0   \n",
       "3  USER USER AKU ITU AKU\\n\\nKU TAU MATAMU SIPIT T...   0   \n",
       "4  USER USER Kaum cebong kapir udah keliatan dong...   1   \n",
       "\n",
       "                                    normalized_tweet  \\\n",
       "0  - di saat semua pria berusaha melacak perhatia...   \n",
       "1  RT USER: USER siapa  telat memberi tau elu?eda...   \n",
       "2  41. Kadang aku berfikir, kenapa aku tetap perc...   \n",
       "3  USER USER AKU ITU AKU\\n\\nKU TAU MATAMU SIPIT T...   \n",
       "4  USER USER Kaum kecebong kafir sudah kelihatan ...   \n",
       "\n",
       "                                         clean_tweet  \n",
       "0   di saat semua pria berusaha melacak perhatian...  \n",
       "1  rt user user siapa telat memberi tau eluedan s...  \n",
       "2   kadang aku berfikir kenapa aku tetap percaya ...  \n",
       "3  user user aku itu akunnku tau matamu sipit tap...  \n",
       "4  user user kaum kecebong kafir sudah kelihatan ...  "
      ]
     },
     "execution_count": 4,
     "metadata": {},
     "output_type": "execute_result"
    }
   ],
   "source": [
    "df.head()"
   ]
  },
  {
   "cell_type": "markdown",
   "id": "6d6f435d-7a62-4635-a668-dad88e9b8c3d",
   "metadata": {},
   "source": [
    "#### Split Data"
   ]
  },
  {
   "cell_type": "code",
   "execution_count": 5,
   "id": "764ca9f2-f3cd-4ab5-bd2d-ba8741fbf183",
   "metadata": {},
   "outputs": [],
   "source": [
    "from sklearn.model_selection import train_test_split\n",
    "x_train, x_test, y_train, y_test = train_test_split(df['clean_tweet'], df['HS'], test_size = 0.2, random_state = 0)"
   ]
  },
  {
   "cell_type": "code",
   "execution_count": 6,
   "id": "8c760cff-238a-4f3e-b783-5db8554d6678",
   "metadata": {},
   "outputs": [
    {
     "data": {
      "text/plain": [
       "2573     user user iya juga yg bilang banyak asing amp ...\n",
       "2091     user user kayak tidak ada pemilihan kata lain ...\n",
       "4683     user user gw tetap anti cinagara gara aku tida...\n",
       "8832     user kafir di sini paling suka bilang koparkap...\n",
       "10469    user user nape kamu semakin jauh bud apa lidah...\n",
       "Name: clean_tweet, dtype: object"
      ]
     },
     "execution_count": 6,
     "metadata": {},
     "output_type": "execute_result"
    }
   ],
   "source": [
    "x_train.head()"
   ]
  },
  {
   "cell_type": "code",
   "execution_count": 7,
   "id": "d5272ca8-33e1-466a-b0e4-216916ee05d8",
   "metadata": {},
   "outputs": [],
   "source": [
    "from sklearn.feature_extraction.text import TfidfVectorizer"
   ]
  },
  {
   "cell_type": "code",
   "execution_count": 8,
   "id": "0ecd9e50-2ba9-451b-9743-2a87c1c8759f",
   "metadata": {},
   "outputs": [],
   "source": [
    "vectorizer = TfidfVectorizer()\n",
    "train_tfidf= vectorizer.fit_transform(x_train)"
   ]
  },
  {
   "cell_type": "code",
   "execution_count": 9,
   "id": "0be85087-af86-484b-846c-51ef40450f15",
   "metadata": {},
   "outputs": [
    {
     "data": {
      "text/html": [
       "<div>\n",
       "<style scoped>\n",
       "    .dataframe tbody tr th:only-of-type {\n",
       "        vertical-align: middle;\n",
       "    }\n",
       "\n",
       "    .dataframe tbody tr th {\n",
       "        vertical-align: top;\n",
       "    }\n",
       "\n",
       "    .dataframe thead th {\n",
       "        text-align: right;\n",
       "    }\n",
       "</style>\n",
       "<table border=\"1\" class=\"dataframe\">\n",
       "  <thead>\n",
       "    <tr style=\"text-align: right;\">\n",
       "      <th></th>\n",
       "      <th>__</th>\n",
       "      <th>___</th>\n",
       "      <th>____</th>\n",
       "      <th>_____</th>\n",
       "      <th>______</th>\n",
       "      <th>____________</th>\n",
       "      <th>__ntomohon</th>\n",
       "      <th>_also_</th>\n",
       "      <th>_kepada</th>\n",
       "      <th>_klompok</th>\n",
       "      <th>...</th>\n",
       "      <th>zuck</th>\n",
       "      <th>zul</th>\n",
       "      <th>zulkarnain</th>\n",
       "      <th>zulkifli</th>\n",
       "      <th>zumi</th>\n",
       "      <th>zumiiiii</th>\n",
       "      <th>zxfxfxxxfxfxaxa</th>\n",
       "      <th>zzzzzz</th>\n",
       "      <th>zzzzzzzz</th>\n",
       "      <th>zzzzzzzzzzzz</th>\n",
       "    </tr>\n",
       "  </thead>\n",
       "  <tbody>\n",
       "    <tr>\n",
       "      <th>0</th>\n",
       "      <td>0.0</td>\n",
       "      <td>0.0</td>\n",
       "      <td>0.0</td>\n",
       "      <td>0.0</td>\n",
       "      <td>0.0</td>\n",
       "      <td>0.0</td>\n",
       "      <td>0.0</td>\n",
       "      <td>0.0</td>\n",
       "      <td>0.0</td>\n",
       "      <td>0.0</td>\n",
       "      <td>...</td>\n",
       "      <td>0.0</td>\n",
       "      <td>0.0</td>\n",
       "      <td>0.0</td>\n",
       "      <td>0.0</td>\n",
       "      <td>0.0</td>\n",
       "      <td>0.0</td>\n",
       "      <td>0.0</td>\n",
       "      <td>0.0</td>\n",
       "      <td>0.0</td>\n",
       "      <td>0.0</td>\n",
       "    </tr>\n",
       "    <tr>\n",
       "      <th>1</th>\n",
       "      <td>0.0</td>\n",
       "      <td>0.0</td>\n",
       "      <td>0.0</td>\n",
       "      <td>0.0</td>\n",
       "      <td>0.0</td>\n",
       "      <td>0.0</td>\n",
       "      <td>0.0</td>\n",
       "      <td>0.0</td>\n",
       "      <td>0.0</td>\n",
       "      <td>0.0</td>\n",
       "      <td>...</td>\n",
       "      <td>0.0</td>\n",
       "      <td>0.0</td>\n",
       "      <td>0.0</td>\n",
       "      <td>0.0</td>\n",
       "      <td>0.0</td>\n",
       "      <td>0.0</td>\n",
       "      <td>0.0</td>\n",
       "      <td>0.0</td>\n",
       "      <td>0.0</td>\n",
       "      <td>0.0</td>\n",
       "    </tr>\n",
       "    <tr>\n",
       "      <th>2</th>\n",
       "      <td>0.0</td>\n",
       "      <td>0.0</td>\n",
       "      <td>0.0</td>\n",
       "      <td>0.0</td>\n",
       "      <td>0.0</td>\n",
       "      <td>0.0</td>\n",
       "      <td>0.0</td>\n",
       "      <td>0.0</td>\n",
       "      <td>0.0</td>\n",
       "      <td>0.0</td>\n",
       "      <td>...</td>\n",
       "      <td>0.0</td>\n",
       "      <td>0.0</td>\n",
       "      <td>0.0</td>\n",
       "      <td>0.0</td>\n",
       "      <td>0.0</td>\n",
       "      <td>0.0</td>\n",
       "      <td>0.0</td>\n",
       "      <td>0.0</td>\n",
       "      <td>0.0</td>\n",
       "      <td>0.0</td>\n",
       "    </tr>\n",
       "    <tr>\n",
       "      <th>3</th>\n",
       "      <td>0.0</td>\n",
       "      <td>0.0</td>\n",
       "      <td>0.0</td>\n",
       "      <td>0.0</td>\n",
       "      <td>0.0</td>\n",
       "      <td>0.0</td>\n",
       "      <td>0.0</td>\n",
       "      <td>0.0</td>\n",
       "      <td>0.0</td>\n",
       "      <td>0.0</td>\n",
       "      <td>...</td>\n",
       "      <td>0.0</td>\n",
       "      <td>0.0</td>\n",
       "      <td>0.0</td>\n",
       "      <td>0.0</td>\n",
       "      <td>0.0</td>\n",
       "      <td>0.0</td>\n",
       "      <td>0.0</td>\n",
       "      <td>0.0</td>\n",
       "      <td>0.0</td>\n",
       "      <td>0.0</td>\n",
       "    </tr>\n",
       "    <tr>\n",
       "      <th>4</th>\n",
       "      <td>0.0</td>\n",
       "      <td>0.0</td>\n",
       "      <td>0.0</td>\n",
       "      <td>0.0</td>\n",
       "      <td>0.0</td>\n",
       "      <td>0.0</td>\n",
       "      <td>0.0</td>\n",
       "      <td>0.0</td>\n",
       "      <td>0.0</td>\n",
       "      <td>0.0</td>\n",
       "      <td>...</td>\n",
       "      <td>0.0</td>\n",
       "      <td>0.0</td>\n",
       "      <td>0.0</td>\n",
       "      <td>0.0</td>\n",
       "      <td>0.0</td>\n",
       "      <td>0.0</td>\n",
       "      <td>0.0</td>\n",
       "      <td>0.0</td>\n",
       "      <td>0.0</td>\n",
       "      <td>0.0</td>\n",
       "    </tr>\n",
       "  </tbody>\n",
       "</table>\n",
       "<p>5 rows × 33274 columns</p>\n",
       "</div>"
      ],
      "text/plain": [
       "    __  ___  ____  _____  ______  ____________  __ntomohon  _also_  _kepada  \\\n",
       "0  0.0  0.0   0.0    0.0     0.0           0.0         0.0     0.0      0.0   \n",
       "1  0.0  0.0   0.0    0.0     0.0           0.0         0.0     0.0      0.0   \n",
       "2  0.0  0.0   0.0    0.0     0.0           0.0         0.0     0.0      0.0   \n",
       "3  0.0  0.0   0.0    0.0     0.0           0.0         0.0     0.0      0.0   \n",
       "4  0.0  0.0   0.0    0.0     0.0           0.0         0.0     0.0      0.0   \n",
       "\n",
       "   _klompok  ...  zuck  zul  zulkarnain  zulkifli  zumi  zumiiiii  \\\n",
       "0       0.0  ...   0.0  0.0         0.0       0.0   0.0       0.0   \n",
       "1       0.0  ...   0.0  0.0         0.0       0.0   0.0       0.0   \n",
       "2       0.0  ...   0.0  0.0         0.0       0.0   0.0       0.0   \n",
       "3       0.0  ...   0.0  0.0         0.0       0.0   0.0       0.0   \n",
       "4       0.0  ...   0.0  0.0         0.0       0.0   0.0       0.0   \n",
       "\n",
       "   zxfxfxxxfxfxaxa  zzzzzz  zzzzzzzz  zzzzzzzzzzzz  \n",
       "0              0.0     0.0       0.0           0.0  \n",
       "1              0.0     0.0       0.0           0.0  \n",
       "2              0.0     0.0       0.0           0.0  \n",
       "3              0.0     0.0       0.0           0.0  \n",
       "4              0.0     0.0       0.0           0.0  \n",
       "\n",
       "[5 rows x 33274 columns]"
      ]
     },
     "execution_count": 9,
     "metadata": {},
     "output_type": "execute_result"
    }
   ],
   "source": [
    "TFIDF_train=pd.DataFrame(train_tfidf.toarray(),columns=vectorizer.get_feature_names_out())\n",
    "TFIDF_train.head()"
   ]
  },
  {
   "cell_type": "code",
   "execution_count": 10,
   "id": "84c83f43-60e9-45fe-8f20-f71a2d683853",
   "metadata": {},
   "outputs": [
    {
     "data": {
      "text/plain": [
       "(14716, 33274)"
      ]
     },
     "execution_count": 10,
     "metadata": {},
     "output_type": "execute_result"
    }
   ],
   "source": [
    "train_tfidf.shape"
   ]
  },
  {
   "cell_type": "code",
   "execution_count": 11,
   "id": "17d18d01-7b04-4eef-a971-f2a2e1d072d4",
   "metadata": {},
   "outputs": [],
   "source": [
    "col=TFIDF_train.columns"
   ]
  },
  {
   "cell_type": "code",
   "execution_count": 12,
   "id": "186d0024-9306-43fe-9ddf-d2913378142a",
   "metadata": {},
   "outputs": [
    {
     "name": "stderr",
     "output_type": "stream",
     "text": [
      "[nltk_data] Downloading package stopwords to\n",
      "[nltk_data]     C:\\Users\\gilan\\AppData\\Roaming\\nltk_data...\n",
      "[nltk_data]   Package stopwords is already up-to-date!\n"
     ]
    }
   ],
   "source": [
    "#stopword removal\n",
    "import nltk\n",
    "from nltk.corpus import stopwords\n",
    "nltk.download('stopwords')\n",
    "\n",
    "list_stopwords = set(stopwords.words('indonesian'))\n",
    "\n",
    "nonstop_tokens = [word for word in col if not word in list_stopwords]"
   ]
  },
  {
   "cell_type": "code",
   "execution_count": 13,
   "id": "5967f640-c101-4813-b6da-4b8d069638d6",
   "metadata": {},
   "outputs": [],
   "source": [
    "train_tfidf = TFIDF_train[nonstop_tokens]"
   ]
  },
  {
   "cell_type": "code",
   "execution_count": 14,
   "id": "f167ac48-69a2-4ae4-9b36-65bfedef858c",
   "metadata": {},
   "outputs": [
    {
     "data": {
      "text/plain": [
       "(14716, 32668)"
      ]
     },
     "execution_count": 14,
     "metadata": {},
     "output_type": "execute_result"
    }
   ],
   "source": [
    "train_tfidf.shape"
   ]
  },
  {
   "cell_type": "code",
   "execution_count": 15,
   "id": "adb99958-2862-488a-823d-c83c3ef40749",
   "metadata": {},
   "outputs": [
    {
     "data": {
      "text/html": [
       "<style>#sk-container-id-1 {color: black;}#sk-container-id-1 pre{padding: 0;}#sk-container-id-1 div.sk-toggleable {background-color: white;}#sk-container-id-1 label.sk-toggleable__label {cursor: pointer;display: block;width: 100%;margin-bottom: 0;padding: 0.3em;box-sizing: border-box;text-align: center;}#sk-container-id-1 label.sk-toggleable__label-arrow:before {content: \"▸\";float: left;margin-right: 0.25em;color: #696969;}#sk-container-id-1 label.sk-toggleable__label-arrow:hover:before {color: black;}#sk-container-id-1 div.sk-estimator:hover label.sk-toggleable__label-arrow:before {color: black;}#sk-container-id-1 div.sk-toggleable__content {max-height: 0;max-width: 0;overflow: hidden;text-align: left;background-color: #f0f8ff;}#sk-container-id-1 div.sk-toggleable__content pre {margin: 0.2em;color: black;border-radius: 0.25em;background-color: #f0f8ff;}#sk-container-id-1 input.sk-toggleable__control:checked~div.sk-toggleable__content {max-height: 200px;max-width: 100%;overflow: auto;}#sk-container-id-1 input.sk-toggleable__control:checked~label.sk-toggleable__label-arrow:before {content: \"▾\";}#sk-container-id-1 div.sk-estimator input.sk-toggleable__control:checked~label.sk-toggleable__label {background-color: #d4ebff;}#sk-container-id-1 div.sk-label input.sk-toggleable__control:checked~label.sk-toggleable__label {background-color: #d4ebff;}#sk-container-id-1 input.sk-hidden--visually {border: 0;clip: rect(1px 1px 1px 1px);clip: rect(1px, 1px, 1px, 1px);height: 1px;margin: -1px;overflow: hidden;padding: 0;position: absolute;width: 1px;}#sk-container-id-1 div.sk-estimator {font-family: monospace;background-color: #f0f8ff;border: 1px dotted black;border-radius: 0.25em;box-sizing: border-box;margin-bottom: 0.5em;}#sk-container-id-1 div.sk-estimator:hover {background-color: #d4ebff;}#sk-container-id-1 div.sk-parallel-item::after {content: \"\";width: 100%;border-bottom: 1px solid gray;flex-grow: 1;}#sk-container-id-1 div.sk-label:hover label.sk-toggleable__label {background-color: #d4ebff;}#sk-container-id-1 div.sk-serial::before {content: \"\";position: absolute;border-left: 1px solid gray;box-sizing: border-box;top: 0;bottom: 0;left: 50%;z-index: 0;}#sk-container-id-1 div.sk-serial {display: flex;flex-direction: column;align-items: center;background-color: white;padding-right: 0.2em;padding-left: 0.2em;position: relative;}#sk-container-id-1 div.sk-item {position: relative;z-index: 1;}#sk-container-id-1 div.sk-parallel {display: flex;align-items: stretch;justify-content: center;background-color: white;position: relative;}#sk-container-id-1 div.sk-item::before, #sk-container-id-1 div.sk-parallel-item::before {content: \"\";position: absolute;border-left: 1px solid gray;box-sizing: border-box;top: 0;bottom: 0;left: 50%;z-index: -1;}#sk-container-id-1 div.sk-parallel-item {display: flex;flex-direction: column;z-index: 1;position: relative;background-color: white;}#sk-container-id-1 div.sk-parallel-item:first-child::after {align-self: flex-end;width: 50%;}#sk-container-id-1 div.sk-parallel-item:last-child::after {align-self: flex-start;width: 50%;}#sk-container-id-1 div.sk-parallel-item:only-child::after {width: 0;}#sk-container-id-1 div.sk-dashed-wrapped {border: 1px dashed gray;margin: 0 0.4em 0.5em 0.4em;box-sizing: border-box;padding-bottom: 0.4em;background-color: white;}#sk-container-id-1 div.sk-label label {font-family: monospace;font-weight: bold;display: inline-block;line-height: 1.2em;}#sk-container-id-1 div.sk-label-container {text-align: center;}#sk-container-id-1 div.sk-container {/* jupyter's `normalize.less` sets `[hidden] { display: none; }` but bootstrap.min.css set `[hidden] { display: none !important; }` so we also need the `!important` here to be able to override the default hidden behavior on the sphinx rendered scikit-learn.org. See: https://github.com/scikit-learn/scikit-learn/issues/21755 */display: inline-block !important;position: relative;}#sk-container-id-1 div.sk-text-repr-fallback {display: none;}</style><div id=\"sk-container-id-1\" class=\"sk-top-container\"><div class=\"sk-text-repr-fallback\"><pre>Pipeline(steps=[(&#x27;svc&#x27;, SVC(gamma=&#x27;auto&#x27;))])</pre><b>In a Jupyter environment, please rerun this cell to show the HTML representation or trust the notebook. <br />On GitHub, the HTML representation is unable to render, please try loading this page with nbviewer.org.</b></div><div class=\"sk-container\" hidden><div class=\"sk-item sk-dashed-wrapped\"><div class=\"sk-label-container\"><div class=\"sk-label sk-toggleable\"><input class=\"sk-toggleable__control sk-hidden--visually\" id=\"sk-estimator-id-1\" type=\"checkbox\" ><label for=\"sk-estimator-id-1\" class=\"sk-toggleable__label sk-toggleable__label-arrow\">Pipeline</label><div class=\"sk-toggleable__content\"><pre>Pipeline(steps=[(&#x27;svc&#x27;, SVC(gamma=&#x27;auto&#x27;))])</pre></div></div></div><div class=\"sk-serial\"><div class=\"sk-item\"><div class=\"sk-estimator sk-toggleable\"><input class=\"sk-toggleable__control sk-hidden--visually\" id=\"sk-estimator-id-2\" type=\"checkbox\" ><label for=\"sk-estimator-id-2\" class=\"sk-toggleable__label sk-toggleable__label-arrow\">SVC</label><div class=\"sk-toggleable__content\"><pre>SVC(gamma=&#x27;auto&#x27;)</pre></div></div></div></div></div></div></div>"
      ],
      "text/plain": [
       "Pipeline(steps=[('svc', SVC(gamma='auto'))])"
      ]
     },
     "execution_count": 15,
     "metadata": {},
     "output_type": "execute_result"
    }
   ],
   "source": [
    "from sklearn.pipeline import make_pipeline\n",
    "from sklearn.svm import SVC\n",
    "import warnings\n",
    "warnings.filterwarnings('ignore')\n",
    "\n",
    "SVM_class = make_pipeline(SVC())\n",
    "SVM_class.fit(train_tfidf, y_train)"
   ]
  },
  {
   "cell_type": "code",
   "execution_count": 16,
   "id": "85c326ba-28ba-463f-8330-c205d88d5b97",
   "metadata": {},
   "outputs": [],
   "source": [
    "test_tfidf = vectorizer.transform(x_test)"
   ]
  },
  {
   "cell_type": "code",
   "execution_count": 17,
   "id": "247fa94e-7a7c-4be3-96ec-e028007b4ef3",
   "metadata": {},
   "outputs": [
    {
     "data": {
      "text/html": [
       "<div>\n",
       "<style scoped>\n",
       "    .dataframe tbody tr th:only-of-type {\n",
       "        vertical-align: middle;\n",
       "    }\n",
       "\n",
       "    .dataframe tbody tr th {\n",
       "        vertical-align: top;\n",
       "    }\n",
       "\n",
       "    .dataframe thead th {\n",
       "        text-align: right;\n",
       "    }\n",
       "</style>\n",
       "<table border=\"1\" class=\"dataframe\">\n",
       "  <thead>\n",
       "    <tr style=\"text-align: right;\">\n",
       "      <th></th>\n",
       "      <th>__</th>\n",
       "      <th>___</th>\n",
       "      <th>____</th>\n",
       "      <th>_____</th>\n",
       "      <th>______</th>\n",
       "      <th>____________</th>\n",
       "      <th>__ntomohon</th>\n",
       "      <th>_also_</th>\n",
       "      <th>_kepada</th>\n",
       "      <th>_klompok</th>\n",
       "      <th>...</th>\n",
       "      <th>zuck</th>\n",
       "      <th>zul</th>\n",
       "      <th>zulkarnain</th>\n",
       "      <th>zulkifli</th>\n",
       "      <th>zumi</th>\n",
       "      <th>zumiiiii</th>\n",
       "      <th>zxfxfxxxfxfxaxa</th>\n",
       "      <th>zzzzzz</th>\n",
       "      <th>zzzzzzzz</th>\n",
       "      <th>zzzzzzzzzzzz</th>\n",
       "    </tr>\n",
       "  </thead>\n",
       "  <tbody>\n",
       "    <tr>\n",
       "      <th>0</th>\n",
       "      <td>0.0</td>\n",
       "      <td>0.0</td>\n",
       "      <td>0.0</td>\n",
       "      <td>0.0</td>\n",
       "      <td>0.0</td>\n",
       "      <td>0.0</td>\n",
       "      <td>0.0</td>\n",
       "      <td>0.0</td>\n",
       "      <td>0.0</td>\n",
       "      <td>0.0</td>\n",
       "      <td>...</td>\n",
       "      <td>0.0</td>\n",
       "      <td>0.0</td>\n",
       "      <td>0.0</td>\n",
       "      <td>0.0</td>\n",
       "      <td>0.0</td>\n",
       "      <td>0.0</td>\n",
       "      <td>0.0</td>\n",
       "      <td>0.0</td>\n",
       "      <td>0.0</td>\n",
       "      <td>0.0</td>\n",
       "    </tr>\n",
       "    <tr>\n",
       "      <th>1</th>\n",
       "      <td>0.0</td>\n",
       "      <td>0.0</td>\n",
       "      <td>0.0</td>\n",
       "      <td>0.0</td>\n",
       "      <td>0.0</td>\n",
       "      <td>0.0</td>\n",
       "      <td>0.0</td>\n",
       "      <td>0.0</td>\n",
       "      <td>0.0</td>\n",
       "      <td>0.0</td>\n",
       "      <td>...</td>\n",
       "      <td>0.0</td>\n",
       "      <td>0.0</td>\n",
       "      <td>0.0</td>\n",
       "      <td>0.0</td>\n",
       "      <td>0.0</td>\n",
       "      <td>0.0</td>\n",
       "      <td>0.0</td>\n",
       "      <td>0.0</td>\n",
       "      <td>0.0</td>\n",
       "      <td>0.0</td>\n",
       "    </tr>\n",
       "    <tr>\n",
       "      <th>2</th>\n",
       "      <td>0.0</td>\n",
       "      <td>0.0</td>\n",
       "      <td>0.0</td>\n",
       "      <td>0.0</td>\n",
       "      <td>0.0</td>\n",
       "      <td>0.0</td>\n",
       "      <td>0.0</td>\n",
       "      <td>0.0</td>\n",
       "      <td>0.0</td>\n",
       "      <td>0.0</td>\n",
       "      <td>...</td>\n",
       "      <td>0.0</td>\n",
       "      <td>0.0</td>\n",
       "      <td>0.0</td>\n",
       "      <td>0.0</td>\n",
       "      <td>0.0</td>\n",
       "      <td>0.0</td>\n",
       "      <td>0.0</td>\n",
       "      <td>0.0</td>\n",
       "      <td>0.0</td>\n",
       "      <td>0.0</td>\n",
       "    </tr>\n",
       "    <tr>\n",
       "      <th>3</th>\n",
       "      <td>0.0</td>\n",
       "      <td>0.0</td>\n",
       "      <td>0.0</td>\n",
       "      <td>0.0</td>\n",
       "      <td>0.0</td>\n",
       "      <td>0.0</td>\n",
       "      <td>0.0</td>\n",
       "      <td>0.0</td>\n",
       "      <td>0.0</td>\n",
       "      <td>0.0</td>\n",
       "      <td>...</td>\n",
       "      <td>0.0</td>\n",
       "      <td>0.0</td>\n",
       "      <td>0.0</td>\n",
       "      <td>0.0</td>\n",
       "      <td>0.0</td>\n",
       "      <td>0.0</td>\n",
       "      <td>0.0</td>\n",
       "      <td>0.0</td>\n",
       "      <td>0.0</td>\n",
       "      <td>0.0</td>\n",
       "    </tr>\n",
       "    <tr>\n",
       "      <th>4</th>\n",
       "      <td>0.0</td>\n",
       "      <td>0.0</td>\n",
       "      <td>0.0</td>\n",
       "      <td>0.0</td>\n",
       "      <td>0.0</td>\n",
       "      <td>0.0</td>\n",
       "      <td>0.0</td>\n",
       "      <td>0.0</td>\n",
       "      <td>0.0</td>\n",
       "      <td>0.0</td>\n",
       "      <td>...</td>\n",
       "      <td>0.0</td>\n",
       "      <td>0.0</td>\n",
       "      <td>0.0</td>\n",
       "      <td>0.0</td>\n",
       "      <td>0.0</td>\n",
       "      <td>0.0</td>\n",
       "      <td>0.0</td>\n",
       "      <td>0.0</td>\n",
       "      <td>0.0</td>\n",
       "      <td>0.0</td>\n",
       "    </tr>\n",
       "  </tbody>\n",
       "</table>\n",
       "<p>5 rows × 33274 columns</p>\n",
       "</div>"
      ],
      "text/plain": [
       "    __  ___  ____  _____  ______  ____________  __ntomohon  _also_  _kepada  \\\n",
       "0  0.0  0.0   0.0    0.0     0.0           0.0         0.0     0.0      0.0   \n",
       "1  0.0  0.0   0.0    0.0     0.0           0.0         0.0     0.0      0.0   \n",
       "2  0.0  0.0   0.0    0.0     0.0           0.0         0.0     0.0      0.0   \n",
       "3  0.0  0.0   0.0    0.0     0.0           0.0         0.0     0.0      0.0   \n",
       "4  0.0  0.0   0.0    0.0     0.0           0.0         0.0     0.0      0.0   \n",
       "\n",
       "   _klompok  ...  zuck  zul  zulkarnain  zulkifli  zumi  zumiiiii  \\\n",
       "0       0.0  ...   0.0  0.0         0.0       0.0   0.0       0.0   \n",
       "1       0.0  ...   0.0  0.0         0.0       0.0   0.0       0.0   \n",
       "2       0.0  ...   0.0  0.0         0.0       0.0   0.0       0.0   \n",
       "3       0.0  ...   0.0  0.0         0.0       0.0   0.0       0.0   \n",
       "4       0.0  ...   0.0  0.0         0.0       0.0   0.0       0.0   \n",
       "\n",
       "   zxfxfxxxfxfxaxa  zzzzzz  zzzzzzzz  zzzzzzzzzzzz  \n",
       "0              0.0     0.0       0.0           0.0  \n",
       "1              0.0     0.0       0.0           0.0  \n",
       "2              0.0     0.0       0.0           0.0  \n",
       "3              0.0     0.0       0.0           0.0  \n",
       "4              0.0     0.0       0.0           0.0  \n",
       "\n",
       "[5 rows x 33274 columns]"
      ]
     },
     "execution_count": 17,
     "metadata": {},
     "output_type": "execute_result"
    }
   ],
   "source": [
    "TFIDF_test=pd.DataFrame(test_tfidf.toarray(),columns=vectorizer.get_feature_names_out())\n",
    "TFIDF_test.head()"
   ]
  },
  {
   "cell_type": "code",
   "execution_count": 18,
   "id": "1e1081a0-6184-4b44-b4e6-a3a81dd83d4c",
   "metadata": {},
   "outputs": [],
   "source": [
    "test_tfidf=TFIDF_test[nonstop_tokens]"
   ]
  },
  {
   "cell_type": "code",
   "execution_count": 19,
   "id": "d83032f2-6bf4-4f84-9fe6-ed828062f018",
   "metadata": {},
   "outputs": [],
   "source": [
    "y_predict=SVM_class.predict(test_tfidf)"
   ]
  },
  {
   "cell_type": "code",
   "execution_count": 20,
   "id": "fca179b1-076b-485c-8905-9509ce28e98d",
   "metadata": {},
   "outputs": [
    {
     "name": "stdout",
     "output_type": "stream",
     "text": [
      "\n",
      "Classification Report\n",
      "\n",
      "              precision    recall  f1-score   support\n",
      "\n",
      "           0       0.60      1.00      0.75      2190\n",
      "           1       0.00      0.00      0.00      1490\n",
      "\n",
      "    accuracy                           0.60      3680\n",
      "   macro avg       0.30      0.50      0.37      3680\n",
      "weighted avg       0.35      0.60      0.44      3680\n",
      "\n"
     ]
    }
   ],
   "source": [
    "from sklearn.metrics import classification_report\n",
    "print('\\nClassification Report\\n')\n",
    "print(classification_report(y_test, y_predict, target_names=['0','1']))"
   ]
  },
  {
   "cell_type": "markdown",
   "id": "4f72620d-f745-4482-a090-43e93855ace8",
   "metadata": {},
   "source": [
    "##### =============================================================================================================="
   ]
  },
  {
   "cell_type": "code",
   "execution_count": 16,
   "id": "6700d906-a7a9-4697-b06f-b26685875ad1",
   "metadata": {},
   "outputs": [],
   "source": [
    "from sklearn import svm\n",
    "from sklearn.pipeline import make_pipeline\n",
    "from sklearn.svm import SVC\n",
    "from sklearn.model_selection import GridSearchCV\n",
    "import warnings\n",
    "warnings.filterwarnings('ignore')"
   ]
  },
  {
   "cell_type": "code",
   "execution_count": 21,
   "id": "06f977f8-caf2-454a-8c0d-0985a17104b1",
   "metadata": {},
   "outputs": [],
   "source": [
    "# Set parameter grid\n",
    "param_grid = {\n",
    "    'svc__C': [1, 10, 100],\n",
    "    'svc__kernel': ['linear', 'rbf', 'poly'],\n",
    "    'svc__gamma': ['scale', 'auto']\n",
    "}\n"
   ]
  },
  {
   "cell_type": "code",
   "execution_count": 22,
   "id": "e4257b34-634d-4845-9040-052a123c310d",
   "metadata": {},
   "outputs": [],
   "source": [
    "# Create pipeline\n",
    "SVM_class = make_pipeline(SVC())"
   ]
  },
  {
   "cell_type": "code",
   "execution_count": null,
   "id": "1fc5ef78-570d-4484-b70e-ba026f1c25c4",
   "metadata": {},
   "outputs": [],
   "source": [
    "# Grid search for hyperparameter tuning\n",
    "grid_search = GridSearchCV(SVM_class, param_grid, cv=5, n_jobs=2)\n",
    "grid_search.fit(train_tfidf, y_train)"
   ]
  },
  {
   "cell_type": "code",
   "execution_count": null,
   "id": "d3eff872-f56a-40a0-856c-a3a5e401a3e6",
   "metadata": {},
   "outputs": [],
   "source": [
    " Get the best parameters\n",
    "best_params = grid_search.best_params_\n",
    "\n",
    "# Create a new model with the best parameters\n",
    "best_SVM_class = make_pipeline(SVC(**best_params))\n",
    "\n",
    "# Fit the model\n",
    "best_SVM_class.fit(train_tfidf, y_train)\n",
    "\n",
    "# Print tuned hyperparameters and accuracy\n",
    "print(\"Tuned Hyperparameters:\", best_params)\n",
    "print(\"Accuracy:\", grid_search.best_score_)"
   ]
  },
  {
   "cell_type": "markdown",
   "id": "ba03e2e8-b5d2-4bb5-96ed-78b77fbb5554",
   "metadata": {},
   "source": [
    "##### =============================================================================================================="
   ]
  },
  {
   "cell_type": "code",
   "execution_count": 17,
   "id": "57da0fb9-b367-4dd8-91ae-2657aa5f5698",
   "metadata": {},
   "outputs": [],
   "source": [
    "from sklearn import svm\n",
    "from sklearn.pipeline import make_pipeline\n",
    "from sklearn.svm import SVC\n",
    "from sklearn.model_selection import GridSearchCV\n",
    "import warnings\n",
    "warnings.filterwarnings('ignore')"
   ]
  },
  {
   "cell_type": "code",
   "execution_count": 18,
   "id": "6eda8c24-cb59-4dad-be63-166ca5238673",
   "metadata": {},
   "outputs": [],
   "source": [
    "from sklearn.model_selection import GridSearchCV\n",
    "\n",
    "parameters = {\n",
    "    'C':[1,10,100],\n",
    "    'kernel':['linear', 'poly', 'rbf', 'sigmoid'],\n",
    "    'gamma':['scale', 'auto']\n",
    "}"
   ]
  },
  {
   "cell_type": "code",
   "execution_count": 19,
   "id": "977bb2b1-e03f-484e-9836-73e438f795eb",
   "metadata": {},
   "outputs": [],
   "source": [
    "SVM_class2= GridSearchCV(SVC(),\n",
    "                            param_grid = parameters,   # hyperparameters\n",
    "                            scoring='accuracy',        # metric for scoring\n",
    "                            cv=5)  "
   ]
  },
  {
   "cell_type": "code",
   "execution_count": null,
   "id": "62570043-acac-400e-8b21-d597eea065d9",
   "metadata": {},
   "outputs": [],
   "source": [
    "SVM_class2.fit(train_tfidf, y_train)\n",
    "print(\"Tuned Hyperparameters :\", SVM_class2.best_params_)\n",
    "print(\"Accuracy :\",SVM_class2.best_score_)"
   ]
  },
  {
   "cell_type": "code",
   "execution_count": null,
   "id": "20075d02-56a7-4392-999a-63b6cb63b2e8",
   "metadata": {},
   "outputs": [],
   "source": [
    "#### Testing"
   ]
  },
  {
   "cell_type": "code",
   "execution_count": null,
   "id": "5fcf794a-cbd9-4f17-8b57-1fec2a9624ae",
   "metadata": {},
   "outputs": [],
   "source": [
    "test_tfidf = vectorizer.transform(x_test)"
   ]
  },
  {
   "cell_type": "code",
   "execution_count": 18,
   "id": "c55559b3-53e4-40ec-bc66-170cc2a1aa9f",
   "metadata": {},
   "outputs": [
    {
     "data": {
      "text/html": [
       "<div>\n",
       "<style scoped>\n",
       "    .dataframe tbody tr th:only-of-type {\n",
       "        vertical-align: middle;\n",
       "    }\n",
       "\n",
       "    .dataframe tbody tr th {\n",
       "        vertical-align: top;\n",
       "    }\n",
       "\n",
       "    .dataframe thead th {\n",
       "        text-align: right;\n",
       "    }\n",
       "</style>\n",
       "<table border=\"1\" class=\"dataframe\">\n",
       "  <thead>\n",
       "    <tr style=\"text-align: right;\">\n",
       "      <th></th>\n",
       "      <th>__</th>\n",
       "      <th>___</th>\n",
       "      <th>____</th>\n",
       "      <th>_____</th>\n",
       "      <th>______</th>\n",
       "      <th>____________</th>\n",
       "      <th>__ntomohon</th>\n",
       "      <th>_also_</th>\n",
       "      <th>_kepada</th>\n",
       "      <th>_klompok</th>\n",
       "      <th>...</th>\n",
       "      <th>zuck</th>\n",
       "      <th>zul</th>\n",
       "      <th>zulkarnain</th>\n",
       "      <th>zulkifli</th>\n",
       "      <th>zumi</th>\n",
       "      <th>zumiiiii</th>\n",
       "      <th>zxfxfxxxfxfxaxa</th>\n",
       "      <th>zzzzzz</th>\n",
       "      <th>zzzzzzzz</th>\n",
       "      <th>zzzzzzzzzzzz</th>\n",
       "    </tr>\n",
       "  </thead>\n",
       "  <tbody>\n",
       "    <tr>\n",
       "      <th>0</th>\n",
       "      <td>0.0</td>\n",
       "      <td>0.0</td>\n",
       "      <td>0.0</td>\n",
       "      <td>0.0</td>\n",
       "      <td>0.0</td>\n",
       "      <td>0.0</td>\n",
       "      <td>0.0</td>\n",
       "      <td>0.0</td>\n",
       "      <td>0.0</td>\n",
       "      <td>0.0</td>\n",
       "      <td>...</td>\n",
       "      <td>0.0</td>\n",
       "      <td>0.0</td>\n",
       "      <td>0.0</td>\n",
       "      <td>0.0</td>\n",
       "      <td>0.0</td>\n",
       "      <td>0.0</td>\n",
       "      <td>0.0</td>\n",
       "      <td>0.0</td>\n",
       "      <td>0.0</td>\n",
       "      <td>0.0</td>\n",
       "    </tr>\n",
       "    <tr>\n",
       "      <th>1</th>\n",
       "      <td>0.0</td>\n",
       "      <td>0.0</td>\n",
       "      <td>0.0</td>\n",
       "      <td>0.0</td>\n",
       "      <td>0.0</td>\n",
       "      <td>0.0</td>\n",
       "      <td>0.0</td>\n",
       "      <td>0.0</td>\n",
       "      <td>0.0</td>\n",
       "      <td>0.0</td>\n",
       "      <td>...</td>\n",
       "      <td>0.0</td>\n",
       "      <td>0.0</td>\n",
       "      <td>0.0</td>\n",
       "      <td>0.0</td>\n",
       "      <td>0.0</td>\n",
       "      <td>0.0</td>\n",
       "      <td>0.0</td>\n",
       "      <td>0.0</td>\n",
       "      <td>0.0</td>\n",
       "      <td>0.0</td>\n",
       "    </tr>\n",
       "    <tr>\n",
       "      <th>2</th>\n",
       "      <td>0.0</td>\n",
       "      <td>0.0</td>\n",
       "      <td>0.0</td>\n",
       "      <td>0.0</td>\n",
       "      <td>0.0</td>\n",
       "      <td>0.0</td>\n",
       "      <td>0.0</td>\n",
       "      <td>0.0</td>\n",
       "      <td>0.0</td>\n",
       "      <td>0.0</td>\n",
       "      <td>...</td>\n",
       "      <td>0.0</td>\n",
       "      <td>0.0</td>\n",
       "      <td>0.0</td>\n",
       "      <td>0.0</td>\n",
       "      <td>0.0</td>\n",
       "      <td>0.0</td>\n",
       "      <td>0.0</td>\n",
       "      <td>0.0</td>\n",
       "      <td>0.0</td>\n",
       "      <td>0.0</td>\n",
       "    </tr>\n",
       "    <tr>\n",
       "      <th>3</th>\n",
       "      <td>0.0</td>\n",
       "      <td>0.0</td>\n",
       "      <td>0.0</td>\n",
       "      <td>0.0</td>\n",
       "      <td>0.0</td>\n",
       "      <td>0.0</td>\n",
       "      <td>0.0</td>\n",
       "      <td>0.0</td>\n",
       "      <td>0.0</td>\n",
       "      <td>0.0</td>\n",
       "      <td>...</td>\n",
       "      <td>0.0</td>\n",
       "      <td>0.0</td>\n",
       "      <td>0.0</td>\n",
       "      <td>0.0</td>\n",
       "      <td>0.0</td>\n",
       "      <td>0.0</td>\n",
       "      <td>0.0</td>\n",
       "      <td>0.0</td>\n",
       "      <td>0.0</td>\n",
       "      <td>0.0</td>\n",
       "    </tr>\n",
       "    <tr>\n",
       "      <th>4</th>\n",
       "      <td>0.0</td>\n",
       "      <td>0.0</td>\n",
       "      <td>0.0</td>\n",
       "      <td>0.0</td>\n",
       "      <td>0.0</td>\n",
       "      <td>0.0</td>\n",
       "      <td>0.0</td>\n",
       "      <td>0.0</td>\n",
       "      <td>0.0</td>\n",
       "      <td>0.0</td>\n",
       "      <td>...</td>\n",
       "      <td>0.0</td>\n",
       "      <td>0.0</td>\n",
       "      <td>0.0</td>\n",
       "      <td>0.0</td>\n",
       "      <td>0.0</td>\n",
       "      <td>0.0</td>\n",
       "      <td>0.0</td>\n",
       "      <td>0.0</td>\n",
       "      <td>0.0</td>\n",
       "      <td>0.0</td>\n",
       "    </tr>\n",
       "  </tbody>\n",
       "</table>\n",
       "<p>5 rows × 33274 columns</p>\n",
       "</div>"
      ],
      "text/plain": [
       "    __  ___  ____  _____  ______  ____________  __ntomohon  _also_  _kepada  \\\n",
       "0  0.0  0.0   0.0    0.0     0.0           0.0         0.0     0.0      0.0   \n",
       "1  0.0  0.0   0.0    0.0     0.0           0.0         0.0     0.0      0.0   \n",
       "2  0.0  0.0   0.0    0.0     0.0           0.0         0.0     0.0      0.0   \n",
       "3  0.0  0.0   0.0    0.0     0.0           0.0         0.0     0.0      0.0   \n",
       "4  0.0  0.0   0.0    0.0     0.0           0.0         0.0     0.0      0.0   \n",
       "\n",
       "   _klompok  ...  zuck  zul  zulkarnain  zulkifli  zumi  zumiiiii  \\\n",
       "0       0.0  ...   0.0  0.0         0.0       0.0   0.0       0.0   \n",
       "1       0.0  ...   0.0  0.0         0.0       0.0   0.0       0.0   \n",
       "2       0.0  ...   0.0  0.0         0.0       0.0   0.0       0.0   \n",
       "3       0.0  ...   0.0  0.0         0.0       0.0   0.0       0.0   \n",
       "4       0.0  ...   0.0  0.0         0.0       0.0   0.0       0.0   \n",
       "\n",
       "   zxfxfxxxfxfxaxa  zzzzzz  zzzzzzzz  zzzzzzzzzzzz  \n",
       "0              0.0     0.0       0.0           0.0  \n",
       "1              0.0     0.0       0.0           0.0  \n",
       "2              0.0     0.0       0.0           0.0  \n",
       "3              0.0     0.0       0.0           0.0  \n",
       "4              0.0     0.0       0.0           0.0  \n",
       "\n",
       "[5 rows x 33274 columns]"
      ]
     },
     "execution_count": 18,
     "metadata": {},
     "output_type": "execute_result"
    }
   ],
   "source": [
    "TFIDF_test=pd.DataFrame(test_tfidf.toarray(),columns=vectorizer.get_feature_names_out())\n",
    "TFIDF_test.head()"
   ]
  },
  {
   "cell_type": "code",
   "execution_count": null,
   "id": "81a11ec4-96c3-40da-8da9-68b13f706f8e",
   "metadata": {},
   "outputs": [],
   "source": [
    "from sklearn.pipeline import make_pipeline\n",
    "from sklearn.svm import SVC\n",
    "import warnings\n",
    "warnings.filterwarnings('ignore')\n",
    "\n",
    "SVM_class = make_pipeline(SVC(gamma='auto'))\n",
    "SVM_class.fit(x_train, y_train)"
   ]
  },
  {
   "cell_type": "markdown",
   "id": "4ca0085a-247d-4ab1-ad84-fbfa9cc67cd2",
   "metadata": {},
   "source": [
    "#### Classifiaction"
   ]
  },
  {
   "cell_type": "code",
   "execution_count": null,
   "id": "287fcb94-b638-4225-8246-24cb2b3065aa",
   "metadata": {},
   "outputs": [],
   "source": [
    "from sklearn.pipeline import make_pipeline\n",
    "from sklearn.svm import SVC\n",
    "import warnings\n",
    "warnings.filterwarnings('ignore')\n",
    "\n",
    "SVM_class = make_pipeline(SVC(gamma='auto'))\n",
    "SVM_class.fit(train_tfidf, y_train)"
   ]
  }
 ],
 "metadata": {
  "kernelspec": {
   "display_name": "Python 3 (ipykernel)",
   "language": "python",
   "name": "python3"
  },
  "language_info": {
   "codemirror_mode": {
    "name": "ipython",
    "version": 3
   },
   "file_extension": ".py",
   "mimetype": "text/x-python",
   "name": "python",
   "nbconvert_exporter": "python",
   "pygments_lexer": "ipython3",
   "version": "3.11.2"
  }
 },
 "nbformat": 4,
 "nbformat_minor": 5
}
